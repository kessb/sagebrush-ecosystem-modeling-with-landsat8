{
 "cells": [
  {
   "cell_type": "code",
   "execution_count": 1,
   "metadata": {},
   "outputs": [],
   "source": [
    "import os,sys\n",
    "from glob import glob\n",
    "# import xarray as xr\n",
    "from matplotlib import pyplot as plt\n",
    "import numpy as np\n",
    "import geopandas as gpd\n",
    "import pandas as pd\n",
    "import matplotlib\n",
    "import fiona\n",
    "import rasterio as rio\n",
    "\n",
    "# helpers\n",
    "# from xarr_helpers import *\n",
    "\n",
    "from pysptools.material_count.vd import HfcVd\n",
    "import pysptools.eea as eea #endmembers extraction algorithms\n",
    "import pysptools.abundance_maps as amap\n",
    "import pysptools.classification as cls\n",
    "import pysptools.material_count as cnt\n",
    "\n",
    "from earthpy.spatial import bytescale\n",
    "import earthpy as et\n",
    "\n",
    "from mpl_toolkits.axes_grid1 import make_axes_locatable\n",
    "from matplotlib import gridspec"
   ]
  },
  {
   "cell_type": "code",
   "execution_count": 2,
   "metadata": {},
   "outputs": [],
   "source": [
    "os.chdir(os.path.join(et.io.HOME, 'earth-analytics'))\n",
    "stacked_aoi_path = os.path.join(\"data\", \"Landsat\", \"outputs\", \"stacked_aoi.tif\")"
   ]
  },
  {
   "cell_type": "code",
   "execution_count": 3,
   "metadata": {},
   "outputs": [],
   "source": [
    "with rio.open(stacked_aoi_path) as aoi:\n",
    "    stacked_arr = aoi.read()\n",
    "    stacked_meta = aoi.meta"
   ]
  },
  {
   "cell_type": "code",
   "execution_count": 6,
   "metadata": {},
   "outputs": [
    {
     "data": {
      "text/plain": [
       "array([[ 659.,  723.,  812., ...,  345.,  453.,  525.],\n",
       "       [3110., 3032., 3318., ..., 2774., 2794., 2834.],\n",
       "       [3027., 2766., 2723., ..., 3034., 2905., 2738.],\n",
       "       [2445., 2195., 2256., ..., 3887., 3986., 3876.],\n",
       "       [1972., 1911., 1796., ..., 2586., 2561., 2632.]], dtype=float32)"
      ]
     },
     "execution_count": 6,
     "metadata": {},
     "output_type": "execute_result"
    }
   ],
   "source": [
    "ee = eea.NFINDR()\n",
    "\n",
    "for n_em in [3,4,5]:\n",
    "    \n",
    "    U = ee.extract(stacked_arr, n_em, maxit=10, normalize=False, ATGP_init=True)\n",
    "    \n",
    "#     # plot them\n",
    "#     plt.figure(figsize=(20,10))\n",
    "#     for em in U:\n",
    "#         plt.plot(stacked_arr, em)\n",
    "        \n",
    "#     plt.title(f'Extracted {n_em} Endmembers from NEON Subset')\n",
    "#     plt.show()\n",
    "\n",
    "#     # Plot the abundance maps\n",
    "#     am = amap.FCLS()\n",
    "#     ab_maps = am.map(neon_sub_cube.values, U, normalize=False)\n",
    "    \n",
    "#     for i,em in enumerate(U):\n",
    "#         fig = plt.figure(figsize=(20,8))\n",
    "#         gs = gridspec.GridSpec(1, 3, width_ratios=[8, 1, 1]) \n",
    "\n",
    "#         ax0 = plt.subplot(gs[0])\n",
    "#         p0 = ax0.plot(neon_wav, em)\n",
    "#         ax0.grid(True)\n",
    "\n",
    "#         ax1 = plt.subplot(gs[1])\n",
    "#         im1 = ax1.imshow(bytescale(neon_sub_cube.values[:,:,[54, 34, 22]]))\n",
    "\n",
    "#         ax2 = plt.subplot(gs[2])\n",
    "#         im2 = ax2.imshow(ab_maps[:,:,i])\n",
    "\n",
    "\n",
    "#         divider = make_axes_locatable(ax2)\n",
    "#         cax = divider.append_axes(\"right\", size=\"15%\", pad=0.05)\n",
    "\n",
    "#         plt.colorbar(im2, cax=cax)\n",
    "#         plt.show()\n"
   ]
  },
  {
   "cell_type": "code",
   "execution_count": 7,
   "metadata": {},
   "outputs": [
    {
     "data": {
      "text/plain": [
       "array([[ 659.,  723.,  812., ...,  345.,  453.,  525.],\n",
       "       [3110., 3032., 3318., ..., 2774., 2794., 2834.],\n",
       "       [3027., 2766., 2723., ..., 3034., 2905., 2738.],\n",
       "       [2445., 2195., 2256., ..., 3887., 3986., 3876.],\n",
       "       [1972., 1911., 1796., ..., 2586., 2561., 2632.]], dtype=float32)"
      ]
     },
     "execution_count": 7,
     "metadata": {},
     "output_type": "execute_result"
    }
   ],
   "source": [
    "U"
   ]
  },
  {
   "cell_type": "code",
   "execution_count": 10,
   "metadata": {},
   "outputs": [
    {
     "name": "stdout",
     "output_type": "stream",
     "text": [
      "(5, 397) (7, 298, 397)\n"
     ]
    }
   ],
   "source": [
    "print(U.shape, stacked_arr.shape)"
   ]
  }
 ],
 "metadata": {
  "kernelspec": {
   "display_name": "Python 3",
   "language": "python",
   "name": "python3"
  },
  "language_info": {
   "codemirror_mode": {
    "name": "ipython",
    "version": 3
   },
   "file_extension": ".py",
   "mimetype": "text/x-python",
   "name": "python",
   "nbconvert_exporter": "python",
   "pygments_lexer": "ipython3",
   "version": "3.7.6"
  },
  "toc": {
   "base_numbering": 1,
   "nav_menu": {},
   "number_sections": true,
   "sideBar": true,
   "skip_h1_title": false,
   "title_cell": "Table of Contents",
   "title_sidebar": "Contents",
   "toc_cell": false,
   "toc_position": {},
   "toc_section_display": true,
   "toc_window_display": false
  }
 },
 "nbformat": 4,
 "nbformat_minor": 4
}
